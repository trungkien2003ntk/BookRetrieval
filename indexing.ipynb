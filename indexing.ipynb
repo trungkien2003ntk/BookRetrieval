{
 "cells": [
  {
   "cell_type": "code",
   "execution_count": null,
   "id": "7a32ea00",
   "metadata": {},
   "outputs": [],
   "source": [
    "from sentence_transformers import SentenceTransformer\n",
    "import torch"
   ]
  },
  {
   "cell_type": "code",
   "execution_count": null,
   "id": "77a09b2f",
   "metadata": {},
   "outputs": [],
   "source": [
    "model = SentenceTransformer(\"hiieu/halong_embedding\")"
   ]
  },
  {
   "cell_type": "code",
   "execution_count": null,
   "id": "2730f9e1",
   "metadata": {},
   "outputs": [],
   "source": [
    "query = \"Bóng đá có lợi ích gì cho sức khỏe?\""
   ]
  },
  {
   "cell_type": "code",
   "execution_count": null,
   "id": "bc3d60c5",
   "metadata": {},
   "outputs": [],
   "source": [
    "query_embedding = model.encode([query])"
   ]
  },
  {
   "cell_type": "code",
   "execution_count": null,
   "id": "7af6ac73",
   "metadata": {},
   "outputs": [],
   "source": [
    "import json"
   ]
  },
  {
   "cell_type": "code",
   "execution_count": null,
   "id": "b6e4bae0",
   "metadata": {},
   "outputs": [],
   "source": [
    "with open(r'C:\\WorkStation\\UIT\\projectCVforTK\\BookRetrieval\\data\\product_injected_categories.json', 'r', encoding='utf-8') as file:\n",
    "    data = json.load(file)"
   ]
  },
  {
   "cell_type": "code",
   "execution_count": null,
   "id": "0cc7b3db",
   "metadata": {},
   "outputs": [],
   "source": [
    "len(data)"
   ]
  },
  {
   "cell_type": "code",
   "execution_count": null,
   "id": "167c51d9",
   "metadata": {},
   "outputs": [],
   "source": [
    "from src.engine.text_embedding import TextEmbeddingGenerator"
   ]
  },
  {
   "cell_type": "code",
   "execution_count": null,
   "id": "f2256b15",
   "metadata": {},
   "outputs": [],
   "source": [
    "text_embedding = TextEmbeddingGenerator()"
   ]
  },
  {
   "cell_type": "code",
   "execution_count": null,
   "id": "7af0b83a",
   "metadata": {},
   "outputs": [],
   "source": [
    "embedding = await text_embedding.generate_text_embedding(\"hello world\")"
   ]
  },
  {
   "cell_type": "code",
   "execution_count": 8,
   "id": "c97b838d",
   "metadata": {},
   "outputs": [],
   "source": [
    "import chromadb"
   ]
  },
  {
   "cell_type": "code",
   "execution_count": 9,
   "id": "288a33b8",
   "metadata": {},
   "outputs": [],
   "source": [
    "client = chromadb.PersistentClient(path=\"./chromadb\")"
   ]
  },
  {
   "cell_type": "code",
   "execution_count": 10,
   "id": "5bce3c0d",
   "metadata": {},
   "outputs": [],
   "source": [
    "collection = client.get_or_create_collection(\n",
    "    name=\"image_chroma_db\",\n",
    "    metadata={\"hnsw:space\": \"cosine\"}\n",
    ")"
   ]
  },
  {
   "cell_type": "code",
   "execution_count": null,
   "id": "aed947e8",
   "metadata": {},
   "outputs": [],
   "source": [
    "collection.count()"
   ]
  },
  {
   "cell_type": "code",
   "execution_count": null,
   "id": "bb9d342f",
   "metadata": {},
   "outputs": [],
   "source": [
    "for item in data:\n",
    "    text = f\"Tên sách: {item['Name']}\\n\" + f\"Nội dung sách: {item['Description']}\"\n",
    "    embedding = await text_embedding.generate_text_embedding(text)\n",
    "    collection.add(\n",
    "        embeddings=[embedding],\n",
    "        documents=[text],\n",
    "        metadatas=[{'id': str(item['Id']), 'name': item['Name'], 'description': item['Description']}],\n",
    "        ids=[str(item['Id'])],\n",
    "    )"
   ]
  },
  {
   "cell_type": "code",
   "execution_count": null,
   "id": "c0cd5d71",
   "metadata": {},
   "outputs": [],
   "source": [
    "a = collection.get(\n",
    "    ids=[\"1\"]\n",
    ")"
   ]
  },
  {
   "cell_type": "code",
   "execution_count": null,
   "id": "ab1774c0",
   "metadata": {},
   "outputs": [],
   "source": [
    "print(a['metadatas'])"
   ]
  },
  {
   "cell_type": "code",
   "execution_count": null,
   "id": "26f0a111",
   "metadata": {},
   "outputs": [],
   "source": [
    "import os"
   ]
  },
  {
   "cell_type": "code",
   "execution_count": null,
   "id": "c6b16bc3",
   "metadata": {},
   "outputs": [],
   "source": [
    "root_dir = r'C:\\WorkStation\\UIT\\projectCVforTK\\BookRetrieval\\data\\images-1-1100'  # Replace with your folder path\n",
    "image_extensions = ('.jpg', '.jpeg', '.png', '.bmp', '.gif')  # Add more if needed"
   ]
  },
  {
   "cell_type": "code",
   "execution_count": 5,
   "id": "91132ddb",
   "metadata": {},
   "outputs": [],
   "source": [
    "import torch\n",
    "import base64\n",
    "from io import BytesIO\n",
    "import torchvision.transforms as T\n",
    "from PIL import Image"
   ]
  },
  {
   "cell_type": "code",
   "execution_count": null,
   "id": "e5b76c47",
   "metadata": {},
   "outputs": [],
   "source": [
    "device = torch.device(\"cuda\" if torch.cuda.is_available() else \"cpu\")"
   ]
  },
  {
   "cell_type": "code",
   "execution_count": null,
   "id": "4c34e5e1",
   "metadata": {},
   "outputs": [],
   "source": [
    "dinov2_vits14_reg = torch.hub.load('facebookresearch/dinov2', 'dinov2_vitl14_reg')"
   ]
  },
  {
   "cell_type": "code",
   "execution_count": null,
   "id": "fbc4912f",
   "metadata": {},
   "outputs": [],
   "source": [
    "transform_image = T.Compose(\n",
    "    [\n",
    "        T.ToTensor(),\n",
    "        T.Resize(244),\n",
    "        T.CenterCrop(224),\n",
    "        T.Normalize([0.5], [0.5])\n",
    "    ]\n",
    ")"
   ]
  },
  {
   "cell_type": "code",
   "execution_count": null,
   "id": "3d69069a",
   "metadata": {},
   "outputs": [],
   "source": [
    "def load_image(base64_image: str) -> torch.Tensor:\n",
    "    img_data = base64.b64decode(base64_image)\n",
    "    img = Image.open(BytesIO(img_data)).convert(\"RGB\")\n",
    "\n",
    "    transformed_img = transform_image(img)[:3].unsqueeze(0)\n",
    "\n",
    "    return transformed_img"
   ]
  },
  {
   "cell_type": "code",
   "execution_count": null,
   "id": "130e62f0",
   "metadata": {},
   "outputs": [],
   "source": [
    "def get_embedding(base64_image: str):\n",
    "    transformed_img = load_image(base64_image)\n",
    "    cuda_transformed_img = transformed_img.to(device)\n",
    "\n",
    "    embeddings = dinov2_vits14_reg(cuda_transformed_img)\n",
    "\n",
    "    return embeddings[0].cpu().detach().numpy()"
   ]
  },
  {
   "cell_type": "code",
   "execution_count": 4,
   "id": "71452c44",
   "metadata": {},
   "outputs": [],
   "source": [
    "def image_to_base64(image_path):\n",
    "    with open(image_path, 'rb') as image_file:\n",
    "        encoded_string = base64.b64encode(image_file.read()).decode('utf-8')\n",
    "    return encoded_string"
   ]
  },
  {
   "cell_type": "code",
   "execution_count": null,
   "id": "a378dda5",
   "metadata": {},
   "outputs": [],
   "source": [
    "for subdir, _, files in os.walk(root_dir):\n",
    "    for file in files:\n",
    "        if file.lower().endswith(image_extensions):\n",
    "            full_path = os.path.join(subdir, file)\n",
    "            base64_image = image_to_base64(full_path)\n",
    "            image_embedding = get_embedding(base64_image)\n",
    "            collection.add(\n",
    "                embeddings=[image_embedding],\n",
    "                metadatas=[{'product_id': os.path.basename(subdir)[5:], 'image_id': os.path.basename(file)[:-4]}],\n",
    "                ids=[os.path.basename(file)[:-4]],\n",
    "            )"
   ]
  },
  {
   "cell_type": "code",
   "execution_count": 6,
   "id": "346d0abf",
   "metadata": {},
   "outputs": [],
   "source": [
    "base64_image = image_to_base64(r\"C:\\WorkStation\\UIT\\projectCVforTK\\BookRetrieval\\data\\images-1-1100\\prod_1\\img_1_015.jpeg\")"
   ]
  },
  {
   "cell_type": "code",
   "execution_count": 11,
   "id": "c90f4315",
   "metadata": {},
   "outputs": [
    {
     "ename": "NameError",
     "evalue": "name 'image_embedding' is not defined",
     "output_type": "error",
     "traceback": [
      "\u001b[1;31m---------------------------------------------------------------------------\u001b[0m",
      "\u001b[1;31mNameError\u001b[0m                                 Traceback (most recent call last)",
      "Cell \u001b[1;32mIn[11], line 2\u001b[0m\n\u001b[0;32m      1\u001b[0m results \u001b[38;5;241m=\u001b[39m collection\u001b[38;5;241m.\u001b[39mquery(\n\u001b[1;32m----> 2\u001b[0m     query_embeddings\u001b[38;5;241m=\u001b[39m[\u001b[43mimage_embedding\u001b[49m],\n\u001b[0;32m      3\u001b[0m     n_results\u001b[38;5;241m=\u001b[39m\u001b[38;5;241m10\u001b[39m\n\u001b[0;32m      4\u001b[0m )\n",
      "\u001b[1;31mNameError\u001b[0m: name 'image_embedding' is not defined"
     ]
    }
   ],
   "source": [
    "results = collection.query(\n",
    "    query_embeddings=[image_embedding],\n",
    "    n_results=10\n",
    ")"
   ]
  },
  {
   "cell_type": "code",
   "execution_count": null,
   "id": "05ec9b8f",
   "metadata": {},
   "outputs": [],
   "source": [
    "metadatas = results.get(\"metadatas\", [])\n",
    "if not metadatas:\n",
    "    print(\"Failed to retrieve by image. Returning an empty list.\")\n",
    "\n",
    "unique_product_ids = {item[\"product_id\"]\n",
    "                        for item in metadatas[0] if \"product_id\" in item}\n",
    "a = list(unique_product_ids)"
   ]
  },
  {
   "cell_type": "code",
   "execution_count": 12,
   "id": "3a63d41d",
   "metadata": {},
   "outputs": [
    {
     "name": "stderr",
     "output_type": "stream",
     "text": [
      "c:\\Users\\Lenovo\\anaconda3\\envs\\UIT\\lib\\site-packages\\tqdm\\auto.py:21: TqdmWarning: IProgress not found. Please update jupyter and ipywidgets. See https://ipywidgets.readthedocs.io/en/stable/user_install.html\n",
      "  from .autonotebook import tqdm as notebook_tqdm\n",
      "INFO:sentence_transformers.SentenceTransformer:Use pytorch device_name: cpu\n",
      "INFO:sentence_transformers.SentenceTransformer:Load pretrained SentenceTransformer: hiieu/halong_embedding\n",
      "Using cache found in C:\\Users\\Lenovo/.cache\\torch\\hub\\facebookresearch_dinov2_main\n",
      "C:\\Users\\Lenovo/.cache\\torch\\hub\\facebookresearch_dinov2_main\\dinov2\\layers\\swiglu_ffn.py:51: UserWarning: xFormers is not available (SwiGLU)\n",
      "  warnings.warn(\"xFormers is not available (SwiGLU)\")\n",
      "C:\\Users\\Lenovo/.cache\\torch\\hub\\facebookresearch_dinov2_main\\dinov2\\layers\\attention.py:33: UserWarning: xFormers is not available (Attention)\n",
      "  warnings.warn(\"xFormers is not available (Attention)\")\n",
      "C:\\Users\\Lenovo/.cache\\torch\\hub\\facebookresearch_dinov2_main\\dinov2\\layers\\block.py:40: UserWarning: xFormers is not available (Block)\n",
      "  warnings.warn(\"xFormers is not available (Block)\")\n",
      "INFO:dinov2:using MLP layer as FFN\n"
     ]
    }
   ],
   "source": [
    "from src.dependencies.service_dependency import get_service"
   ]
  },
  {
   "cell_type": "code",
   "execution_count": 13,
   "id": "597e4875",
   "metadata": {},
   "outputs": [],
   "source": [
    "service = get_service()"
   ]
  },
  {
   "cell_type": "code",
   "execution_count": 14,
   "id": "443af9f2",
   "metadata": {},
   "outputs": [],
   "source": [
    "result = await service.search_service.search_by_image_embedding(base64_image)"
   ]
  },
  {
   "cell_type": "code",
   "execution_count": 15,
   "id": "4030e6dd",
   "metadata": {},
   "outputs": [
    {
     "data": {
      "text/plain": [
       "['1',\n",
       " '147',\n",
       " '236',\n",
       " '106',\n",
       " '153',\n",
       " '300',\n",
       " '288',\n",
       " '289',\n",
       " '298',\n",
       " '234',\n",
       " '237',\n",
       " '283',\n",
       " '193',\n",
       " '198',\n",
       " '276',\n",
       " '206',\n",
       " '302',\n",
       " '215',\n",
       " '313',\n",
       " '929',\n",
       " '290',\n",
       " '964',\n",
       " '916',\n",
       " '743',\n",
       " '178',\n",
       " '203',\n",
       " '238',\n",
       " '110',\n",
       " '192',\n",
       " '918',\n",
       " '711',\n",
       " '997',\n",
       " '970',\n",
       " '231',\n",
       " '733',\n",
       " '1036',\n",
       " '1069',\n",
       " '687',\n",
       " '191',\n",
       " '329',\n",
       " '1071',\n",
       " '1043',\n",
       " '891',\n",
       " '995',\n",
       " '910',\n",
       " '633',\n",
       " '499',\n",
       " '648',\n",
       " '1041',\n",
       " '351',\n",
       " '315',\n",
       " '898',\n",
       " '915',\n",
       " '185',\n",
       " '547',\n",
       " '1063',\n",
       " '974',\n",
       " '314',\n",
       " '631',\n",
       " '363',\n",
       " '628',\n",
       " '235',\n",
       " '717',\n",
       " '1012',\n",
       " '212',\n",
       " '296',\n",
       " '957',\n",
       " '3',\n",
       " '1009',\n",
       " '640',\n",
       " '912',\n",
       " '1070',\n",
       " '274',\n",
       " '497',\n",
       " '176',\n",
       " '316',\n",
       " '921',\n",
       " '965',\n",
       " '1082',\n",
       " '506',\n",
       " '295',\n",
       " '310',\n",
       " '949',\n",
       " '83',\n",
       " '244',\n",
       " '549',\n",
       " '639',\n",
       " '555',\n",
       " '818',\n",
       " '285',\n",
       " '597',\n",
       " '308',\n",
       " '933',\n",
       " '195',\n",
       " '981',\n",
       " '222',\n",
       " '293',\n",
       " '741',\n",
       " '1089',\n",
       " '979',\n",
       " '531',\n",
       " '649',\n",
       " '1023',\n",
       " '1075',\n",
       " '993',\n",
       " '1049',\n",
       " '676',\n",
       " '284',\n",
       " '328',\n",
       " '638',\n",
       " '913',\n",
       " '261',\n",
       " '281',\n",
       " '533',\n",
       " '527',\n",
       " '271',\n",
       " '841',\n",
       " '739',\n",
       " '38',\n",
       " '52',\n",
       " '210',\n",
       " '1095',\n",
       " '1002',\n",
       " '368',\n",
       " '991',\n",
       " '765',\n",
       " '1059',\n",
       " '255',\n",
       " '254',\n",
       " '1068',\n",
       " '596',\n",
       " '356',\n",
       " '902']"
      ]
     },
     "execution_count": 15,
     "metadata": {},
     "output_type": "execute_result"
    }
   ],
   "source": [
    "result"
   ]
  }
 ],
 "metadata": {
  "kernelspec": {
   "display_name": "UIT",
   "language": "python",
   "name": "python3"
  },
  "language_info": {
   "codemirror_mode": {
    "name": "ipython",
    "version": 3
   },
   "file_extension": ".py",
   "mimetype": "text/x-python",
   "name": "python",
   "nbconvert_exporter": "python",
   "pygments_lexer": "ipython3",
   "version": "3.10.16"
  }
 },
 "nbformat": 4,
 "nbformat_minor": 5
}
