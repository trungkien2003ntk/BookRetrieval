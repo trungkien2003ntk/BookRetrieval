{
 "cells": [
  {
   "cell_type": "markdown",
   "id": "67844254",
   "metadata": {},
   "source": [
    "## Import libraries"
   ]
  },
  {
   "cell_type": "code",
   "execution_count": 1,
   "id": "5594d4a9",
   "metadata": {},
   "outputs": [
    {
     "name": "stderr",
     "output_type": "stream",
     "text": [
      "c:\\Users\\Lenovo\\anaconda3\\envs\\UIT\\lib\\site-packages\\tqdm\\auto.py:21: TqdmWarning: IProgress not found. Please update jupyter and ipywidgets. See https://ipywidgets.readthedocs.io/en/stable/user_install.html\n",
      "  from .autonotebook import tqdm as notebook_tqdm\n"
     ]
    }
   ],
   "source": [
    "from sentence_transformers import SentenceTransformer\n",
    "import torch\n",
    "import json\n",
    "import chromadb\n",
    "import os\n",
    "import base64\n",
    "from io import BytesIO\n",
    "import torchvision.transforms as T\n",
    "from PIL import Image"
   ]
  },
  {
   "cell_type": "code",
   "execution_count": 2,
   "id": "f3645e2a",
   "metadata": {},
   "outputs": [],
   "source": [
    "from src.engine.text_embedding import TextEmbeddingGenerator\n",
    "from src.engine.image_embedding import ImageEmbeddingGenerator"
   ]
  },
  {
   "cell_type": "markdown",
   "id": "7d0f3e71",
   "metadata": {},
   "source": [
    "## Initial database"
   ]
  },
  {
   "cell_type": "code",
   "execution_count": 3,
   "id": "c09c7e3a",
   "metadata": {},
   "outputs": [],
   "source": [
    "device = torch.device(\"cuda\" if torch.cuda.is_available() else \"cpu\")"
   ]
  },
  {
   "cell_type": "code",
   "execution_count": 4,
   "id": "e2388251",
   "metadata": {},
   "outputs": [
    {
     "name": "stderr",
     "output_type": "stream",
     "text": [
      "Using cache found in C:\\Users\\Lenovo/.cache\\torch\\hub\\facebookresearch_dinov2_main\n",
      "C:\\Users\\Lenovo/.cache\\torch\\hub\\facebookresearch_dinov2_main\\dinov2\\layers\\swiglu_ffn.py:51: UserWarning: xFormers is not available (SwiGLU)\n",
      "  warnings.warn(\"xFormers is not available (SwiGLU)\")\n",
      "C:\\Users\\Lenovo/.cache\\torch\\hub\\facebookresearch_dinov2_main\\dinov2\\layers\\attention.py:33: UserWarning: xFormers is not available (Attention)\n",
      "  warnings.warn(\"xFormers is not available (Attention)\")\n",
      "C:\\Users\\Lenovo/.cache\\torch\\hub\\facebookresearch_dinov2_main\\dinov2\\layers\\block.py:40: UserWarning: xFormers is not available (Block)\n",
      "  warnings.warn(\"xFormers is not available (Block)\")\n"
     ]
    }
   ],
   "source": [
    "text_embedding = TextEmbeddingGenerator()\n",
    "image_embedding = ImageEmbeddingGenerator()"
   ]
  },
  {
   "cell_type": "code",
   "execution_count": 5,
   "id": "e989ee67",
   "metadata": {},
   "outputs": [],
   "source": [
    "client = chromadb.PersistentClient(path=\"./chromadb\")\n",
    "text_collection = client.get_or_create_collection(\n",
    "    name=\"text_chroma_db\",\n",
    "    metadata={\"hnsw:space\": \"cosine\"}\n",
    ")\n",
    "image_collection = client.get_or_create_collection(\n",
    "    name=\"image_chroma_db\",\n",
    "    metadata={\"hnsw:space\": \"cosine\"}\n",
    ")"
   ]
  },
  {
   "cell_type": "code",
   "execution_count": null,
   "id": "d0d221fb",
   "metadata": {},
   "outputs": [],
   "source": [
    "with open(r'data\\product_injected_categories.json', 'r', encoding='utf-8') as file:\n",
    "    text_data = json.load(file)"
   ]
  },
  {
   "cell_type": "code",
   "execution_count": null,
   "id": "e0ff090a",
   "metadata": {},
   "outputs": [],
   "source": [
    "image_data = r'data\\images-1-1100'  # Replace with your folder path\n",
    "image_extensions = ('.jpg', '.jpeg', '.png', '.bmp', '.gif')  # Add more if needed"
   ]
  },
  {
   "cell_type": "markdown",
   "id": "bb915edf",
   "metadata": {},
   "source": [
    "## Indexing"
   ]
  },
  {
   "cell_type": "code",
   "execution_count": 7,
   "id": "2bf88a3d",
   "metadata": {},
   "outputs": [],
   "source": [
    "def image_to_base64(image_path):\n",
    "    with open(image_path, 'rb') as image_file:\n",
    "        encoded_string = base64.b64encode(image_file.read()).decode('utf-8')\n",
    "    return encoded_string"
   ]
  },
  {
   "cell_type": "code",
   "execution_count": null,
   "id": "3de907a6",
   "metadata": {},
   "outputs": [],
   "source": [
    "for item in text_data:\n",
    "    text = f\"Tên sách: {item['Name']}\\n\" + f\"Nội dung sách: {item['Description']}\"\n",
    "    embedding = await text_embedding.generate_text_embedding(text)\n",
    "    text_collection.add(\n",
    "        embeddings=[embedding],\n",
    "        documents=[text],\n",
    "        metadatas=[{'id': str(item['Id']), 'name': item['Name'], 'description': item['Description']}],\n",
    "        ids=[str(item['Id'])],\n",
    "    )"
   ]
  },
  {
   "cell_type": "code",
   "execution_count": null,
   "id": "37501ace",
   "metadata": {},
   "outputs": [],
   "source": [
    "for subdir, _, files in os.walk(image_data):\n",
    "    for file in files:\n",
    "        if file.lower().endswith(image_extensions):\n",
    "            full_path = os.path.join(subdir, file)\n",
    "            base64_image = image_to_base64(full_path)\n",
    "            image_embedding = await image_embedding.generate_image_embedding(base64_image)\n",
    "            image_collection.add(\n",
    "                embeddings=[image_embedding],\n",
    "                metadatas=[{'product_id': os.path.basename(subdir)[5:], 'image_id': os.path.basename(file)[:-4]}],\n",
    "                ids=[os.path.basename(file)[:-4]],\n",
    "            )"
   ]
  }
 ],
 "metadata": {
  "kernelspec": {
   "display_name": "UIT",
   "language": "python",
   "name": "python3"
  },
  "language_info": {
   "codemirror_mode": {
    "name": "ipython",
    "version": 3
   },
   "file_extension": ".py",
   "mimetype": "text/x-python",
   "name": "python",
   "nbconvert_exporter": "python",
   "pygments_lexer": "ipython3",
   "version": "3.10.16"
  }
 },
 "nbformat": 4,
 "nbformat_minor": 5
}
